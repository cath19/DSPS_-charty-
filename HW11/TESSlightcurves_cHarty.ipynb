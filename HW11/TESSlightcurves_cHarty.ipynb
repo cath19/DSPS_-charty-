{
  "nbformat": 4,
  "nbformat_minor": 0,
  "metadata": {
    "colab": {
      "name": "TESSlightcurves_cHarty.ipynb",
      "provenance": [],
      "collapsed_sections": [],
      "include_colab_link": true
    },
    "kernelspec": {
      "name": "python3",
      "display_name": "Python 3"
    }
  },
  "cells": [
    {
      "cell_type": "markdown",
      "metadata": {
        "id": "view-in-github",
        "colab_type": "text"
      },
      "source": [
        "<a href=\"https://colab.research.google.com/github/cath19/DSPS_cHarty/blob/master/HW11/TESSlightcurves_cHarty.ipynb\" target=\"_parent\"><img src=\"https://colab.research.google.com/assets/colab-badge.svg\" alt=\"Open In Colab\"/></a>"
      ]
    },
    {
      "cell_type": "markdown",
      "metadata": {
        "id": "KgGtH7pcnElK",
        "colab_type": "text"
      },
      "source": [
        "Catherine Harty\n",
        "\n",
        "PHYS467\n",
        "\n",
        "HW11 Part 2"
      ]
    },
    {
      "cell_type": "markdown",
      "metadata": {
        "id": "AHQkmKjxCvx1",
        "colab_type": "text"
      },
      "source": [
        "In this part of the homework, you will download 3 time series that were produced by TESS. The format of the data is given in two columns: Time (BJD = Barycentric Julian Date, or days) and differential magnitude (mmag). Each file containing the time series is formatted as 'IDnumber.rw', and there are no headers or column headings (in other words, they are barebones ASCII files).\n",
        "\n",
        "The three files are available at the following links:\n",
        "\n",
        "https://drive.google.com/open?id=1etymBPHbCCF_sBYhmGkqP0lYpKGtl4O9\n",
        "\n",
        "https://drive.google.com/open?id=1q10RiwR20PpBDsWM6MAJY_L9sfrod_N0\n",
        "\n",
        "https://drive.google.com/open?id=1wQ2zloxuoZ4xfyLLyNSltveOLek4C8-8\n",
        "\n",
        "Start by loading the data and plotting each of these time series (with proper axes and with the ID number shown for each star)."
      ]
    },
    {
      "cell_type": "code",
      "metadata": {
        "id": "MbVUs95xCQVc",
        "colab_type": "code",
        "colab": {}
      },
      "source": [
        "import pandas as pd\n",
        "import numpy as np\n",
        "import matplotlib\n",
        "import matplotlib.pyplot as pl\n",
        "from astropy.stats import LombScargle"
      ],
      "execution_count": 0,
      "outputs": []
    },
    {
      "cell_type": "markdown",
      "metadata": {
        "id": "MxPaNJoNEIAd",
        "colab_type": "text"
      },
      "source": [
        "# **Data ingestion**"
      ]
    },
    {
      "cell_type": "code",
      "metadata": {
        "id": "KTs853KKw_lj",
        "colab_type": "code",
        "colab": {
          "base_uri": "https://localhost:8080/",
          "height": 34
        },
        "outputId": "6c310e6e-bfd6-47c7-e8a7-17b969701784"
      },
      "source": [
        "from google.colab import drive\n",
        "drive.mount('/content/drive')"
      ],
      "execution_count": 66,
      "outputs": [
        {
          "output_type": "stream",
          "text": [
            "Drive already mounted at /content/drive; to attempt to forcibly remount, call drive.mount(\"/content/drive\", force_remount=True).\n"
          ],
          "name": "stdout"
        }
      ]
    },
    {
      "cell_type": "code",
      "metadata": {
        "id": "73fOHsMvxyd6",
        "colab_type": "code",
        "colab": {
          "base_uri": "https://localhost:8080/",
          "height": 51
        },
        "outputId": "2954d78d-c9a9-4a22-a25b-0f1f441b92d0"
      },
      "source": [
        "cd 'drive/My Drive/dsps'"
      ],
      "execution_count": 67,
      "outputs": [
        {
          "output_type": "stream",
          "text": [
            "[Errno 2] No such file or directory: 'drive/My Drive/dsps'\n",
            "/content/drive/My Drive/dsps\n"
          ],
          "name": "stdout"
        }
      ]
    },
    {
      "cell_type": "code",
      "metadata": {
        "id": "TZ6ZsRJzEMSR",
        "colab_type": "code",
        "colab": {
          "base_uri": "https://localhost:8080/",
          "height": 204
        },
        "outputId": "a7030157-23c6-40a8-f6d1-c5c7b10be9aa"
      },
      "source": [
        "timeSeries1 = pd.read_csv('011400909.rw', sep = ' ', names = ['time', 'mmag'])\n",
        "timeSeries1.head()"
      ],
      "execution_count": 68,
      "outputs": [
        {
          "output_type": "execute_result",
          "data": {
            "text/html": [
              "<div>\n",
              "<style scoped>\n",
              "    .dataframe tbody tr th:only-of-type {\n",
              "        vertical-align: middle;\n",
              "    }\n",
              "\n",
              "    .dataframe tbody tr th {\n",
              "        vertical-align: top;\n",
              "    }\n",
              "\n",
              "    .dataframe thead th {\n",
              "        text-align: right;\n",
              "    }\n",
              "</style>\n",
              "<table border=\"1\" class=\"dataframe\">\n",
              "  <thead>\n",
              "    <tr style=\"text-align: right;\">\n",
              "      <th></th>\n",
              "      <th>time</th>\n",
              "      <th>mmag</th>\n",
              "    </tr>\n",
              "  </thead>\n",
              "  <tbody>\n",
              "    <tr>\n",
              "      <th>0</th>\n",
              "      <td>1468.277296</td>\n",
              "      <td>-0.006142</td>\n",
              "    </tr>\n",
              "    <tr>\n",
              "      <th>1</th>\n",
              "      <td>1468.278685</td>\n",
              "      <td>-0.006294</td>\n",
              "    </tr>\n",
              "    <tr>\n",
              "      <th>2</th>\n",
              "      <td>1468.280074</td>\n",
              "      <td>-0.006214</td>\n",
              "    </tr>\n",
              "    <tr>\n",
              "      <th>3</th>\n",
              "      <td>1468.281463</td>\n",
              "      <td>-0.006281</td>\n",
              "    </tr>\n",
              "    <tr>\n",
              "      <th>4</th>\n",
              "      <td>1468.282852</td>\n",
              "      <td>-0.006453</td>\n",
              "    </tr>\n",
              "  </tbody>\n",
              "</table>\n",
              "</div>"
            ],
            "text/plain": [
              "          time      mmag\n",
              "0  1468.277296 -0.006142\n",
              "1  1468.278685 -0.006294\n",
              "2  1468.280074 -0.006214\n",
              "3  1468.281463 -0.006281\n",
              "4  1468.282852 -0.006453"
            ]
          },
          "metadata": {
            "tags": []
          },
          "execution_count": 68
        }
      ]
    },
    {
      "cell_type": "code",
      "metadata": {
        "id": "zQWUK3S0yWH9",
        "colab_type": "code",
        "colab": {
          "base_uri": "https://localhost:8080/",
          "height": 204
        },
        "outputId": "38f54e6e-ac72-4661-b475-95900339e64a"
      },
      "source": [
        "timeSeries2 = pd.read_csv('146879345.rw', sep = ' ', names = ['time', 'mmag'])\n",
        "timeSeries2.head()"
      ],
      "execution_count": 69,
      "outputs": [
        {
          "output_type": "execute_result",
          "data": {
            "text/html": [
              "<div>\n",
              "<style scoped>\n",
              "    .dataframe tbody tr th:only-of-type {\n",
              "        vertical-align: middle;\n",
              "    }\n",
              "\n",
              "    .dataframe tbody tr th {\n",
              "        vertical-align: top;\n",
              "    }\n",
              "\n",
              "    .dataframe thead th {\n",
              "        text-align: right;\n",
              "    }\n",
              "</style>\n",
              "<table border=\"1\" class=\"dataframe\">\n",
              "  <thead>\n",
              "    <tr style=\"text-align: right;\">\n",
              "      <th></th>\n",
              "      <th>time</th>\n",
              "      <th>mmag</th>\n",
              "    </tr>\n",
              "  </thead>\n",
              "  <tbody>\n",
              "    <tr>\n",
              "      <th>0</th>\n",
              "      <td>1468.276144</td>\n",
              "      <td>0.030515</td>\n",
              "    </tr>\n",
              "    <tr>\n",
              "      <th>1</th>\n",
              "      <td>1468.277532</td>\n",
              "      <td>0.032342</td>\n",
              "    </tr>\n",
              "    <tr>\n",
              "      <th>2</th>\n",
              "      <td>1468.278921</td>\n",
              "      <td>0.033998</td>\n",
              "    </tr>\n",
              "    <tr>\n",
              "      <th>3</th>\n",
              "      <td>1468.280310</td>\n",
              "      <td>0.034609</td>\n",
              "    </tr>\n",
              "    <tr>\n",
              "      <th>4</th>\n",
              "      <td>1468.281699</td>\n",
              "      <td>0.036624</td>\n",
              "    </tr>\n",
              "  </tbody>\n",
              "</table>\n",
              "</div>"
            ],
            "text/plain": [
              "          time      mmag\n",
              "0  1468.276144  0.030515\n",
              "1  1468.277532  0.032342\n",
              "2  1468.278921  0.033998\n",
              "3  1468.280310  0.034609\n",
              "4  1468.281699  0.036624"
            ]
          },
          "metadata": {
            "tags": []
          },
          "execution_count": 69
        }
      ]
    },
    {
      "cell_type": "code",
      "metadata": {
        "id": "0dRFpoyLyhU1",
        "colab_type": "code",
        "colab": {
          "base_uri": "https://localhost:8080/",
          "height": 204
        },
        "outputId": "242fbced-f0c4-41d5-c5eb-4e5ae65b5bd0"
      },
      "source": [
        "timeSeries3 = pd.read_csv('277023834.rw', sep = ' ', names = ['time', 'mmag'])\n",
        "timeSeries3.head()"
      ],
      "execution_count": 70,
      "outputs": [
        {
          "output_type": "execute_result",
          "data": {
            "text/html": [
              "<div>\n",
              "<style scoped>\n",
              "    .dataframe tbody tr th:only-of-type {\n",
              "        vertical-align: middle;\n",
              "    }\n",
              "\n",
              "    .dataframe tbody tr th {\n",
              "        vertical-align: top;\n",
              "    }\n",
              "\n",
              "    .dataframe thead th {\n",
              "        text-align: right;\n",
              "    }\n",
              "</style>\n",
              "<table border=\"1\" class=\"dataframe\">\n",
              "  <thead>\n",
              "    <tr style=\"text-align: right;\">\n",
              "      <th></th>\n",
              "      <th>time</th>\n",
              "      <th>mmag</th>\n",
              "    </tr>\n",
              "  </thead>\n",
              "  <tbody>\n",
              "    <tr>\n",
              "      <th>0</th>\n",
              "      <td>1325.296126</td>\n",
              "      <td>0.022374</td>\n",
              "    </tr>\n",
              "    <tr>\n",
              "      <th>1</th>\n",
              "      <td>1325.297515</td>\n",
              "      <td>0.022118</td>\n",
              "    </tr>\n",
              "    <tr>\n",
              "      <th>2</th>\n",
              "      <td>1325.298904</td>\n",
              "      <td>0.026386</td>\n",
              "    </tr>\n",
              "    <tr>\n",
              "      <th>3</th>\n",
              "      <td>1325.300293</td>\n",
              "      <td>0.013699</td>\n",
              "    </tr>\n",
              "    <tr>\n",
              "      <th>4</th>\n",
              "      <td>1325.301682</td>\n",
              "      <td>0.025005</td>\n",
              "    </tr>\n",
              "  </tbody>\n",
              "</table>\n",
              "</div>"
            ],
            "text/plain": [
              "          time      mmag\n",
              "0  1325.296126  0.022374\n",
              "1  1325.297515  0.022118\n",
              "2  1325.298904  0.026386\n",
              "3  1325.300293  0.013699\n",
              "4  1325.301682  0.025005"
            ]
          },
          "metadata": {
            "tags": []
          },
          "execution_count": 70
        }
      ]
    },
    {
      "cell_type": "markdown",
      "metadata": {
        "id": "Nrh4O-yeEnV6",
        "colab_type": "text"
      },
      "source": [
        "# **Plotting each time series**"
      ]
    },
    {
      "cell_type": "code",
      "metadata": {
        "id": "-AlyY6WlE1Nq",
        "colab_type": "code",
        "colab": {
          "base_uri": "https://localhost:8080/",
          "height": 312
        },
        "outputId": "f6490cdc-3e0b-4d86-d95a-15d7140ea07e"
      },
      "source": [
        "timeSeries1.plot(kind='scatter',x='time',y='mmag')\n",
        "pl.title('Time Series of 011400909')\n",
        "pl.xlabel('time (BJD)')\n",
        "pl.ylabel('differential magnitude (mmag)')"
      ],
      "execution_count": 99,
      "outputs": [
        {
          "output_type": "execute_result",
          "data": {
            "text/plain": [
              "Text(0, 0.5, 'differential magnitude (mmag)')"
            ]
          },
          "metadata": {
            "tags": []
          },
          "execution_count": 99
        },
        {
          "output_type": "display_data",
          "data": {
            "image/png": "[encoded data removed]",
            "text/plain": [
              "<Figure size 432x288 with 1 Axes>"
            ]
          },
          "metadata": {
            "tags": []
          }
        }
      ]
    },
    {
      "cell_type": "markdown",
      "metadata": {
        "id": "bOPXIM_65KhJ",
        "colab_type": "text"
      },
      "source": [
        "**Figure 1**: Time Series of 011400909. This plot shows the differential magnitude over time. The variability seems to be **cyclical**."
      ]
    },
    {
      "cell_type": "code",
      "metadata": {
        "id": "pX8HXU8d2loZ",
        "colab_type": "code",
        "colab": {
          "base_uri": "https://localhost:8080/",
          "height": 312
        },
        "outputId": "43277e3d-bf7a-4e2c-ed13-535946ec3572"
      },
      "source": [
        "timeSeries2.plot(kind='scatter',x='time',y='mmag')\n",
        "pl.title('Time Series of 146879345')\n",
        "pl.xlabel('time (BJD)')\n",
        "pl.ylabel('differential magnitude (mmag)')"
      ],
      "execution_count": 100,
      "outputs": [
        {
          "output_type": "execute_result",
          "data": {
            "text/plain": [
              "Text(0, 0.5, 'differential magnitude (mmag)')"
            ]
          },
          "metadata": {
            "tags": []
          },
          "execution_count": 100
        },
        {
          "output_type": "display_data",
          "data": {
            "image/png": "[encoded data removed]",
            "text/plain": [
              "<Figure size 432x288 with 1 Axes>"
            ]
          },
          "metadata": {
            "tags": []
          }
        }
      ]
    },
    {
      "cell_type": "markdown",
      "metadata": {
        "id": "scUel8wi4unv",
        "colab_type": "text"
      },
      "source": [
        "**Figure 1**: Time Series of 146879345. This plot shows the differential magnitude over time. The variability seems to be **periodic**."
      ]
    },
    {
      "cell_type": "code",
      "metadata": {
        "id": "-VWVXf8-2r0_",
        "colab_type": "code",
        "colab": {
          "base_uri": "https://localhost:8080/",
          "height": 312
        },
        "outputId": "719ef680-462b-4e7d-b374-77566ad1b9a4"
      },
      "source": [
        "timeSeries3.plot(kind='scatter',x='time',y='mmag')\n",
        "pl.title('Time Series of 277023834')\n",
        "pl.xlabel('time (BJD)')\n",
        "pl.ylabel('differential magnitude (mmag)')"
      ],
      "execution_count": 101,
      "outputs": [
        {
          "output_type": "execute_result",
          "data": {
            "text/plain": [
              "Text(0, 0.5, 'differential magnitude (mmag)')"
            ]
          },
          "metadata": {
            "tags": []
          },
          "execution_count": 101
        },
        {
          "output_type": "display_data",
          "data": {
            "image/png": "[encoded data removed]",
            "text/plain": [
              "<Figure size 432x288 with 1 Axes>"
            ]
          },
          "metadata": {
            "tags": []
          }
        }
      ]
    },
    {
      "cell_type": "markdown",
      "metadata": {
        "id": "1ylC7B1X50bu",
        "colab_type": "text"
      },
      "source": [
        "**Figure 3**: Time Series of 277023834. This plot shows the differential magnitude over time. The variability seems to be **stochastic**."
      ]
    },
    {
      "cell_type": "markdown",
      "metadata": {
        "id": "1WNlG2gpE136",
        "colab_type": "text"
      },
      "source": [
        "Now that you have plotted each time series, you can probably make an educated guess as to what type of variability (periodic, cyclical or stochastic) is present in each of them. Add a text cell below to put your best \"guess\" (prediction required for full marks, even if it is wrong or disagrees with answer later in the assignment)."
      ]
    },
    {
      "cell_type": "markdown",
      "metadata": {
        "id": "K8Nj4QHt58Sr",
        "colab_type": "text"
      },
      "source": [
        "**Comment**:\n",
        "\n",
        "Time series of 011400909 is **cyclical**\n",
        "\n",
        "Time series of 146879345 is **periodic**\n",
        "\n",
        "Time series of 277023834 is **stochastic**"
      ]
    },
    {
      "cell_type": "markdown",
      "metadata": {
        "id": "y_orkganFNzi",
        "colab_type": "text"
      },
      "source": [
        "# **Computing Lomb-Scargle periodograms for each time series**\n",
        "\n",
        "Using the package loaded above (LombScargle), compute the periodogram (either the power spectrum or the amplitude spectrum, as discussed in class) for each time series, and then plot each periodogram, making sure to properly label the axes and to identify each star. Make sure to choose the frequency range wisely.\n",
        "\n",
        "For more documentation on the LombScargle package: https://docs.astropy.org/en/stable/api/astropy.timeseries.LombScargle.html#astropy.timeseries.LombScargle\n",
        "\n",
        "For the normalization, make sure to use \"psd\" so that we can recover units."
      ]
    },
    {
      "cell_type": "code",
      "metadata": {
        "id": "4xQUqNAV7RLq",
        "colab_type": "code",
        "colab": {
          "base_uri": "https://localhost:8080/",
          "height": 312
        },
        "outputId": "3a94313e-f784-4c0b-9db3-38258dc08fbf"
      },
      "source": [
        "frequency1, power1 = LombScargle(timeSeries1['time'], timeSeries1['mmag']).autopower()\n",
        "pl.plot(frequency1, power1) \n",
        "pl.title('Periodogram of 011400909')\n",
        "pl.xlabel('frequecy')\n",
        "pl.ylabel('amplitude')"
      ],
      "execution_count": 102,
      "outputs": [
        {
          "output_type": "execute_result",
          "data": {
            "text/plain": [
              "Text(0, 0.5, 'amplitude')"
            ]
          },
          "metadata": {
            "tags": []
          },
          "execution_count": 102
        },
        {
          "output_type": "display_data",
          "data": {
            "image/png": "[encoded data removed]",
            "text/plain": [
              "<Figure size 432x288 with 1 Axes>"
            ]
          },
          "metadata": {
            "tags": []
          }
        }
      ]
    },
    {
      "cell_type": "markdown",
      "metadata": {
        "id": "O9zAKJWN9J3w",
        "colab_type": "text"
      },
      "source": [
        "**Figure 4**:"
      ]
    },
    {
      "cell_type": "code",
      "metadata": {
        "id": "0RastWeF9Npf",
        "colab_type": "code",
        "colab": {
          "base_uri": "https://localhost:8080/",
          "height": 312
        },
        "outputId": "455c8f17-32c3-4082-cd79-908cfaacd3e8"
      },
      "source": [
        "frequency2, power2 = LombScargle(timeSeries2['time'], timeSeries2['mmag']).autopower()\n",
        "pl.plot(frequency2, power2) \n",
        "pl.title('Periodogram of 146879345')\n",
        "pl.xlabel('frequecy')\n",
        "pl.ylabel('amplitude')"
      ],
      "execution_count": 105,
      "outputs": [
        {
          "output_type": "execute_result",
          "data": {
            "text/plain": [
              "Text(0, 0.5, 'amplitude')"
            ]
          },
          "metadata": {
            "tags": []
          },
          "execution_count": 105
        },
        {
          "output_type": "display_data",
          "data": {
            "image/png": "[encoded data removed]",
            "text/plain": [
              "<Figure size 432x288 with 1 Axes>"
            ]
          },
          "metadata": {
            "tags": []
          }
        }
      ]
    },
    {
      "cell_type": "markdown",
      "metadata": {
        "id": "w-PUcCK19WFu",
        "colab_type": "text"
      },
      "source": [
        "**Figure 5**:"
      ]
    },
    {
      "cell_type": "code",
      "metadata": {
        "id": "BH6pHcIo9Ziq",
        "colab_type": "code",
        "colab": {
          "base_uri": "https://localhost:8080/",
          "height": 312
        },
        "outputId": "6f29802c-1e2f-4d33-b539-2bd46bca3eab"
      },
      "source": [
        "frequency3, power3 = LombScargle(timeSeries3['time'], timeSeries3['mmag']).autopower()\n",
        "pl.plot(frequency3, power3) \n",
        "pl.title('Periodogram of 277023834')\n",
        "pl.xlabel('frequecy')\n",
        "pl.ylabel('amplitude')"
      ],
      "execution_count": 107,
      "outputs": [
        {
          "output_type": "execute_result",
          "data": {
            "text/plain": [
              "Text(0, 0.5, 'amplitude')"
            ]
          },
          "metadata": {
            "tags": []
          },
          "execution_count": 107
        },
        {
          "output_type": "display_data",
          "data": {
            "image/png": "[encoded data removed]",
            "text/plain": [
              "<Figure size 432x288 with 1 Axes>"
            ]
          },
          "metadata": {
            "tags": []
          }
        }
      ]
    },
    {
      "cell_type": "markdown",
      "metadata": {
        "id": "24hCXzpt9umw",
        "colab_type": "text"
      },
      "source": [
        "**Figure 6**:"
      ]
    },
    {
      "cell_type": "markdown",
      "metadata": {
        "id": "r-DL0PfvFrZC",
        "colab_type": "text"
      },
      "source": [
        "Based on the periodograms you have plotted, add a text box below and indicate what type of variability is exhibited by each of the stars. If one of the stars exhibits *periodic* variations, please also indicate the value of that period."
      ]
    },
    {
      "cell_type": "markdown",
      "metadata": {
        "id": "z0fZtSO_906x",
        "colab_type": "text"
      },
      "source": [
        "**Comment**:"
      ]
    },
    {
      "cell_type": "markdown",
      "metadata": {
        "id": "BYeEpKtVHmMl",
        "colab_type": "text"
      },
      "source": [
        "# **Phase folding**\n",
        "\n",
        "For any star above exhibiting periodic variations, you will phase-fold their time series. This is accomplished by rescaling the exogenous variable, dividing it by the period (keep in mind that period = 1/frequency, and that if you have multiple periods, or harmonics, you should divide by the fundamental period). However, only the fractional part (e.g. np.modf(x)[0]) of the period must be considered (which means that the axis containing the exogenous variable will no longer be monotonically increasing; therefore, make sure to reorder the dataset appropriately).\n",
        "\n",
        "Then, plot the phase-folded light curve(s) and identify them accordingly."
      ]
    },
    {
      "cell_type": "code",
      "metadata": {
        "id": "cqC1e8JIIp_E",
        "colab_type": "code",
        "colab": {}
      },
      "source": [
        "..."
      ],
      "execution_count": 0,
      "outputs": []
    },
    {
      "cell_type": "markdown",
      "metadata": {
        "id": "-GxNivHsI2uK",
        "colab_type": "text"
      },
      "source": [
        "# **Binning**\n",
        "\n",
        "Finally, you will bin the data so that the phased light curve(s) contains 20 bins (from 0 to 1). To do so, you can use the df.resample() method (or any other method you wish), averaging all the points within each bin. Overplot the binned light curve(s) over the original data using a larger symbol size (and perhaps a different color), and connect the binned points with a line. Are 20 bins appropriate? If not, add more bins and explain why."
      ]
    },
    {
      "cell_type": "code",
      "metadata": {
        "id": "Kto8VoZaJSN6",
        "colab_type": "code",
        "colab": {}
      },
      "source": [
        "..."
      ],
      "execution_count": 0,
      "outputs": []
    },
    {
      "cell_type": "markdown",
      "metadata": {
        "id": "ggEuStXqJS2y",
        "colab_type": "text"
      },
      "source": [
        "This concludes the homework assignment!"
      ]
    },
    {
      "cell_type": "markdown",
      "metadata": {
        "id": "1xdy0cQCKFTt",
        "colab_type": "text"
      },
      "source": [
        "**Bonus question**: The resulting phase-folded light curve(s) might not be perfectly overlapping, with certain artefacts. Adding a text cell below, comment on what method could help address that issue, and summarily describe how you would go about applying it."
      ]
    }
  ]
}