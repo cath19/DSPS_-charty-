{
  "nbformat": 4,
  "nbformat_minor": 0,
  "metadata": {
    "colab": {
      "name": "TESSlightcurves_cHarty.ipynb",
      "provenance": [],
      "collapsed_sections": [],
      "include_colab_link": true
    },
    "kernelspec": {
      "name": "python3",
      "display_name": "Python 3"
    }
  },
  "cells": [
    {
      "cell_type": "markdown",
      "metadata": {
        "id": "view-in-github",
        "colab_type": "text"
      },
      "source": [
        "<a href=\"https://colab.research.google.com/github/cath19/DSPS_cHarty/blob/master/HW11/TESSlightcurves_cHarty.ipynb\" target=\"_parent\"><img src=\"https://colab.research.google.com/assets/colab-badge.svg\" alt=\"Open In Colab\"/></a>"
      ]
    },
    {
      "cell_type": "markdown",
      "metadata": {
        "id": "KgGtH7pcnElK",
        "colab_type": "text"
      },
      "source": [
        "Catherine Harty\n",
        "\n",
        "PHYS467\n",
        "\n",
        "HW11 Part 2"
      ]
    },
    {
      "cell_type": "markdown",
      "metadata": {
        "id": "AHQkmKjxCvx1",
        "colab_type": "text"
      },
      "source": [
        "In this part of the homework, you will download 3 time series that were produced by TESS. The format of the data is given in two columns: Time (BJD = Barycentric Julian Date, or days) and differential magnitude (mmag). Each file containing the time series is formatted as 'IDnumber.rw', and there are no headers or column headings (in other words, they are barebones ASCII files).\n",
        "\n",
        "The three files are available at the following links:\n",
        "\n",
        "https://drive.google.com/open?id=1etymBPHbCCF_sBYhmGkqP0lYpKGtl4O9\n",
        "\n",
        "https://drive.google.com/open?id=1q10RiwR20PpBDsWM6MAJY_L9sfrod_N0\n",
        "\n",
        "https://drive.google.com/open?id=1wQ2zloxuoZ4xfyLLyNSltveOLek4C8-8\n",
        "\n",
        "Start by loading the data and plotting each of these time series (with proper axes and with the ID number shown for each star)."
      ]
    },
    {
      "cell_type": "code",
      "metadata": {
        "id": "MbVUs95xCQVc",
        "colab_type": "code",
        "colab": {}
      },
      "source": [
        "import pandas as pd\n",
        "import numpy as np\n",
        "import matplotlib\n",
        "import matplotlib.pyplot as pl\n",
        "from astropy.stats import LombScargle"
      ],
      "execution_count": 0,
      "outputs": []
    },
    {
      "cell_type": "markdown",
      "metadata": {
        "id": "MxPaNJoNEIAd",
        "colab_type": "text"
      },
      "source": [
        "# **Data ingestion**"
      ]
    },
    {
      "cell_type": "code",
      "metadata": {
        "id": "KTs853KKw_lj",
        "colab_type": "code",
        "colab": {
          "base_uri": "https://localhost:8080/",
          "height": 122
        },
        "outputId": "9fff6270-07a2-4e40-e42b-25d5c8d7cf07"
      },
      "source": [
        "from google.colab import drive\n",
        "drive.mount('/content/drive')"
      ],
      "execution_count": 2,
      "outputs": [
        {
          "output_type": "stream",
          "text": [
            "Go to this URL in a browser: https://accounts.google.com/o/oauth2/auth?client_id=947318989803-6bn6qk8qdgf4n4g3pfee6491hc0brc4i.apps.googleusercontent.com&redirect_uri=urn%3aietf%3awg%3aoauth%3a2.0%3aoob&response_type=code&scope=email%20https%3a%2f%2fwww.googleapis.com%2fauth%2fdocs.test%20https%3a%2f%2fwww.googleapis.com%2fauth%2fdrive%20https%3a%2f%2fwww.googleapis.com%2fauth%2fdrive.photos.readonly%20https%3a%2f%2fwww.googleapis.com%2fauth%2fpeopleapi.readonly\n",
            "\n",
            "Enter your authorization code:\n",
            "··········\n",
            "Mounted at /content/drive\n"
          ],
          "name": "stdout"
        }
      ]
    },
    {
      "cell_type": "code",
      "metadata": {
        "id": "73fOHsMvxyd6",
        "colab_type": "code",
        "colab": {
          "base_uri": "https://localhost:8080/",
          "height": 34
        },
        "outputId": "184376f2-79ff-4858-ed47-7389466a1106"
      },
      "source": [
        "cd 'drive/My Drive/dsps'"
      ],
      "execution_count": 3,
      "outputs": [
        {
          "output_type": "stream",
          "text": [
            "/content/drive/My Drive/dsps\n"
          ],
          "name": "stdout"
        }
      ]
    },
    {
      "cell_type": "code",
      "metadata": {
        "id": "TZ6ZsRJzEMSR",
        "colab_type": "code",
        "colab": {
          "base_uri": "https://localhost:8080/",
          "height": 204
        },
        "outputId": "1712919c-4be8-47bf-e7a0-48252a1755da"
      },
      "source": [
        "timeSeries1 = pd.read_csv('011400909.rw', sep = ' ', names = ['time', 'mmag'])\n",
        "timeSeries1.head()"
      ],
      "execution_count": 4,
      "outputs": [
        {
          "output_type": "execute_result",
          "data": {
            "text/html": [
              "<div>\n",
              "<style scoped>\n",
              "    .dataframe tbody tr th:only-of-type {\n",
              "        vertical-align: middle;\n",
              "    }\n",
              "\n",
              "    .dataframe tbody tr th {\n",
              "        vertical-align: top;\n",
              "    }\n",
              "\n",
              "    .dataframe thead th {\n",
              "        text-align: right;\n",
              "    }\n",
              "</style>\n",
              "<table border=\"1\" class=\"dataframe\">\n",
              "  <thead>\n",
              "    <tr style=\"text-align: right;\">\n",
              "      <th></th>\n",
              "      <th>time</th>\n",
              "      <th>mmag</th>\n",
              "    </tr>\n",
              "  </thead>\n",
              "  <tbody>\n",
              "    <tr>\n",
              "      <th>0</th>\n",
              "      <td>1468.277296</td>\n",
              "      <td>-0.006142</td>\n",
              "    </tr>\n",
              "    <tr>\n",
              "      <th>1</th>\n",
              "      <td>1468.278685</td>\n",
              "      <td>-0.006294</td>\n",
              "    </tr>\n",
              "    <tr>\n",
              "      <th>2</th>\n",
              "      <td>1468.280074</td>\n",
              "      <td>-0.006214</td>\n",
              "    </tr>\n",
              "    <tr>\n",
              "      <th>3</th>\n",
              "      <td>1468.281463</td>\n",
              "      <td>-0.006281</td>\n",
              "    </tr>\n",
              "    <tr>\n",
              "      <th>4</th>\n",
              "      <td>1468.282852</td>\n",
              "      <td>-0.006453</td>\n",
              "    </tr>\n",
              "  </tbody>\n",
              "</table>\n",
              "</div>"
            ],
            "text/plain": [
              "          time      mmag\n",
              "0  1468.277296 -0.006142\n",
              "1  1468.278685 -0.006294\n",
              "2  1468.280074 -0.006214\n",
              "3  1468.281463 -0.006281\n",
              "4  1468.282852 -0.006453"
            ]
          },
          "metadata": {
            "tags": []
          },
          "execution_count": 4
        }
      ]
    },
    {
      "cell_type": "code",
      "metadata": {
        "id": "zQWUK3S0yWH9",
        "colab_type": "code",
        "colab": {
          "base_uri": "https://localhost:8080/",
          "height": 204
        },
        "outputId": "e11e1073-cc07-4d7e-f2d9-0efd88a698e2"
      },
      "source": [
        "timeSeries2 = pd.read_csv('146879345.rw', sep = ' ', names = ['time', 'mmag'])\n",
        "timeSeries2.head()"
      ],
      "execution_count": 5,
      "outputs": [
        {
          "output_type": "execute_result",
          "data": {
            "text/html": [
              "<div>\n",
              "<style scoped>\n",
              "    .dataframe tbody tr th:only-of-type {\n",
              "        vertical-align: middle;\n",
              "    }\n",
              "\n",
              "    .dataframe tbody tr th {\n",
              "        vertical-align: top;\n",
              "    }\n",
              "\n",
              "    .dataframe thead th {\n",
              "        text-align: right;\n",
              "    }\n",
              "</style>\n",
              "<table border=\"1\" class=\"dataframe\">\n",
              "  <thead>\n",
              "    <tr style=\"text-align: right;\">\n",
              "      <th></th>\n",
              "      <th>time</th>\n",
              "      <th>mmag</th>\n",
              "    </tr>\n",
              "  </thead>\n",
              "  <tbody>\n",
              "    <tr>\n",
              "      <th>0</th>\n",
              "      <td>1468.276144</td>\n",
              "      <td>0.030515</td>\n",
              "    </tr>\n",
              "    <tr>\n",
              "      <th>1</th>\n",
              "      <td>1468.277532</td>\n",
              "      <td>0.032342</td>\n",
              "    </tr>\n",
              "    <tr>\n",
              "      <th>2</th>\n",
              "      <td>1468.278921</td>\n",
              "      <td>0.033998</td>\n",
              "    </tr>\n",
              "    <tr>\n",
              "      <th>3</th>\n",
              "      <td>1468.280310</td>\n",
              "      <td>0.034609</td>\n",
              "    </tr>\n",
              "    <tr>\n",
              "      <th>4</th>\n",
              "      <td>1468.281699</td>\n",
              "      <td>0.036624</td>\n",
              "    </tr>\n",
              "  </tbody>\n",
              "</table>\n",
              "</div>"
            ],
            "text/plain": [
              "          time      mmag\n",
              "0  1468.276144  0.030515\n",
              "1  1468.277532  0.032342\n",
              "2  1468.278921  0.033998\n",
              "3  1468.280310  0.034609\n",
              "4  1468.281699  0.036624"
            ]
          },
          "metadata": {
            "tags": []
          },
          "execution_count": 5
        }
      ]
    },
    {
      "cell_type": "code",
      "metadata": {
        "id": "0dRFpoyLyhU1",
        "colab_type": "code",
        "colab": {
          "base_uri": "https://localhost:8080/",
          "height": 204
        },
        "outputId": "fcecb6c5-3147-4dbd-e52c-052efb1dedec"
      },
      "source": [
        "timeSeries3 = pd.read_csv('277023834.rw', sep = ' ', names = ['time', 'mmag'])\n",
        "timeSeries3.head()"
      ],
      "execution_count": 6,
      "outputs": [
        {
          "output_type": "execute_result",
          "data": {
            "text/html": [
              "<div>\n",
              "<style scoped>\n",
              "    .dataframe tbody tr th:only-of-type {\n",
              "        vertical-align: middle;\n",
              "    }\n",
              "\n",
              "    .dataframe tbody tr th {\n",
              "        vertical-align: top;\n",
              "    }\n",
              "\n",
              "    .dataframe thead th {\n",
              "        text-align: right;\n",
              "    }\n",
              "</style>\n",
              "<table border=\"1\" class=\"dataframe\">\n",
              "  <thead>\n",
              "    <tr style=\"text-align: right;\">\n",
              "      <th></th>\n",
              "      <th>time</th>\n",
              "      <th>mmag</th>\n",
              "    </tr>\n",
              "  </thead>\n",
              "  <tbody>\n",
              "    <tr>\n",
              "      <th>0</th>\n",
              "      <td>1325.296126</td>\n",
              "      <td>0.022374</td>\n",
              "    </tr>\n",
              "    <tr>\n",
              "      <th>1</th>\n",
              "      <td>1325.297515</td>\n",
              "      <td>0.022118</td>\n",
              "    </tr>\n",
              "    <tr>\n",
              "      <th>2</th>\n",
              "      <td>1325.298904</td>\n",
              "      <td>0.026386</td>\n",
              "    </tr>\n",
              "    <tr>\n",
              "      <th>3</th>\n",
              "      <td>1325.300293</td>\n",
              "      <td>0.013699</td>\n",
              "    </tr>\n",
              "    <tr>\n",
              "      <th>4</th>\n",
              "      <td>1325.301682</td>\n",
              "      <td>0.025005</td>\n",
              "    </tr>\n",
              "  </tbody>\n",
              "</table>\n",
              "</div>"
            ],
            "text/plain": [
              "          time      mmag\n",
              "0  1325.296126  0.022374\n",
              "1  1325.297515  0.022118\n",
              "2  1325.298904  0.026386\n",
              "3  1325.300293  0.013699\n",
              "4  1325.301682  0.025005"
            ]
          },
          "metadata": {
            "tags": []
          },
          "execution_count": 6
        }
      ]
    },
    {
      "cell_type": "markdown",
      "metadata": {
        "id": "Nrh4O-yeEnV6",
        "colab_type": "text"
      },
      "source": [
        "# **Plotting each time series**"
      ]
    },
    {
      "cell_type": "code",
      "metadata": {
        "id": "-AlyY6WlE1Nq",
        "colab_type": "code",
        "colab": {
          "base_uri": "https://localhost:8080/",
          "height": 312
        },
        "outputId": "6ce635d0-cdc1-4d0a-a2ba-4c3f78952458"
      },
      "source": [
        "timeSeries1.plot(kind='scatter',x='time',y='mmag')\n",
        "pl.title('Time Series of 011400909')\n",
        "pl.xlabel('time (BJD)')\n",
        "pl.ylabel('differential magnitude (mmag)')"
      ],
      "execution_count": 7,
      "outputs": [
        {
          "output_type": "execute_result",
          "data": {
            "text/plain": [
              "Text(0, 0.5, 'differential magnitude (mmag)')"
            ]
          },
          "metadata": {
            "tags": []
          },
          "execution_count": 7
        },
        {
          "output_type": "display_data",
          "data": {
            "image/png": "[encoded data removed]",
            "text/plain": [
              "<Figure size 432x288 with 1 Axes>"
            ]
          },
          "metadata": {
            "tags": []
          }
        }
      ]
    },
    {
      "cell_type": "markdown",
      "metadata": {
        "id": "bOPXIM_65KhJ",
        "colab_type": "text"
      },
      "source": [
        "**Figure 1**: Time Series of 011400909. This plot shows the differential magnitude over time. The variability seems to be **cyclical**."
      ]
    },
    {
      "cell_type": "code",
      "metadata": {
        "id": "pX8HXU8d2loZ",
        "colab_type": "code",
        "colab": {
          "base_uri": "https://localhost:8080/",
          "height": 312
        },
        "outputId": "893e43b2-2ccd-4223-9513-06f7c4f1a764"
      },
      "source": [
        "timeSeries2.plot(kind='scatter',x='time',y='mmag')\n",
        "pl.title('Time Series of 146879345')\n",
        "pl.xlabel('time (BJD)')\n",
        "pl.ylabel('differential magnitude (mmag)')"
      ],
      "execution_count": 8,
      "outputs": [
        {
          "output_type": "execute_result",
          "data": {
            "text/plain": [
              "Text(0, 0.5, 'differential magnitude (mmag)')"
            ]
          },
          "metadata": {
            "tags": []
          },
          "execution_count": 8
        },
        {
          "output_type": "display_data",
          "data": {
            "image/png": "[encoded data removed]",
            "text/plain": [
              "<Figure size 432x288 with 1 Axes>"
            ]
          },
          "metadata": {
            "tags": []
          }
        }
      ]
    },
    {
      "cell_type": "markdown",
      "metadata": {
        "id": "scUel8wi4unv",
        "colab_type": "text"
      },
      "source": [
        "**Figure 1**: Time Series of 146879345. This plot shows the differential magnitude over time. The variability seems to be **periodic**."
      ]
    },
    {
      "cell_type": "code",
      "metadata": {
        "id": "-VWVXf8-2r0_",
        "colab_type": "code",
        "colab": {
          "base_uri": "https://localhost:8080/",
          "height": 312
        },
        "outputId": "df7c5700-4219-4eda-d9c1-77f9181a061a"
      },
      "source": [
        "timeSeries3.plot(kind='scatter',x='time',y='mmag')\n",
        "pl.title('Time Series of 277023834')\n",
        "pl.xlabel('time (BJD)')\n",
        "pl.ylabel('differential magnitude (mmag)')"
      ],
      "execution_count": 9,
      "outputs": [
        {
          "output_type": "execute_result",
          "data": {
            "text/plain": [
              "Text(0, 0.5, 'differential magnitude (mmag)')"
            ]
          },
          "metadata": {
            "tags": []
          },
          "execution_count": 9
        },
        {
          "output_type": "display_data",
          "data": {
            "image/png": "[encoded data removed]",
            "text/plain": [
              "<Figure size 432x288 with 1 Axes>"
            ]
          },
          "metadata": {
            "tags": []
          }
        }
      ]
    },
    {
      "cell_type": "markdown",
      "metadata": {
        "id": "1ylC7B1X50bu",
        "colab_type": "text"
      },
      "source": [
        "**Figure 3**: Time Series of 277023834. This plot shows the differential magnitude over time. The variability seems to be **stochastic**."
      ]
    },
    {
      "cell_type": "markdown",
      "metadata": {
        "id": "1WNlG2gpE136",
        "colab_type": "text"
      },
      "source": [
        "Now that you have plotted each time series, you can probably make an educated guess as to what type of variability (periodic, cyclical or stochastic) is present in each of them. Add a text cell below to put your best \"guess\" (prediction required for full marks, even if it is wrong or disagrees with answer later in the assignment)."
      ]
    },
    {
      "cell_type": "markdown",
      "metadata": {
        "id": "K8Nj4QHt58Sr",
        "colab_type": "text"
      },
      "source": [
        "**Comment**:\n",
        "\n",
        "Time series of 011400909 is **cyclical**\n",
        "\n",
        "Time series of 146879345 is **periodic**\n",
        "\n",
        "Time series of 277023834 is **stochastic**"
      ]
    },
    {
      "cell_type": "markdown",
      "metadata": {
        "id": "y_orkganFNzi",
        "colab_type": "text"
      },
      "source": [
        "# **Computing Lomb-Scargle periodograms for each time series**\n",
        "\n",
        "Using the package loaded above (LombScargle), compute the periodogram (either the power spectrum or the amplitude spectrum, as discussed in class) for each time series, and then plot each periodogram, making sure to properly label the axes and to identify each star. Make sure to choose the frequency range wisely.\n",
        "\n",
        "For more documentation on the LombScargle package: https://docs.astropy.org/en/stable/api/astropy.timeseries.LombScargle.html#astropy.timeseries.LombScargle\n",
        "\n",
        "For the normalization, make sure to use \"psd\" so that we can recover units."
      ]
    },
    {
      "cell_type": "code",
      "metadata": {
        "id": "ahztPbFCXQvC",
        "colab_type": "code",
        "colab": {
          "base_uri": "https://localhost:8080/",
          "height": 312
        },
        "outputId": "c69e671b-3ece-4483-928f-81e1bc690ff0"
      },
      "source": [
        "ls1 = LombScargle(timeSeries1['time'], 1000*timeSeries1['mmag'])\n",
        "N1 = len(timeSeries1['time'])\n",
        "frequency1, power1 = ls1.autopower(normalization = 'psd', nyquist_factor = 0.2)\n",
        "amp1 = 2*(power1/N1)**0.5\n",
        "pl.plot(frequency1, amp1)\n",
        "pl.title('Periodogram of 011400909')\n",
        "pl.xlabel('frequecy')\n",
        "pl.ylabel('amplitude')"
      ],
      "execution_count": 18,
      "outputs": [
        {
          "output_type": "execute_result",
          "data": {
            "text/plain": [
              "Text(0, 0.5, 'amplitude')"
            ]
          },
          "metadata": {
            "tags": []
          },
          "execution_count": 18
        },
        {
          "output_type": "display_data",
          "data": {
            "image/png": "[encoded data removed]",
            "text/plain": [
              "<Figure size 432x288 with 1 Axes>"
            ]
          },
          "metadata": {
            "tags": []
          }
        }
      ]
    },
    {
      "cell_type": "markdown",
      "metadata": {
        "id": "O9zAKJWN9J3w",
        "colab_type": "text"
      },
      "source": [
        "**Figure 4**:"
      ]
    },
    {
      "cell_type": "code",
      "metadata": {
        "id": "0RastWeF9Npf",
        "colab_type": "code",
        "colab": {
          "base_uri": "https://localhost:8080/",
          "height": 312
        },
        "outputId": "a89315b7-994d-4b60-ef2b-ebf14b6a383f"
      },
      "source": [
        "ls2 = LombScargle(timeSeries2['time'], 1000*timeSeries2['mmag'])\n",
        "N2 = len(timeSeries2['time'])\n",
        "frequency2, power2 = ls2.autopower(normalization = 'psd', nyquist_factor = 0.2)\n",
        "amp2 = 2*(power2/N2)**0.5\n",
        "pl.plot(frequency2, amp2)\n",
        "pl.title('Periodogram of 146879345')\n",
        "pl.xlabel('frequecy')\n",
        "pl.ylabel('amplitude')"
      ],
      "execution_count": 19,
      "outputs": [
        {
          "output_type": "execute_result",
          "data": {
            "text/plain": [
              "Text(0, 0.5, 'amplitude')"
            ]
          },
          "metadata": {
            "tags": []
          },
          "execution_count": 19
        },
        {
          "output_type": "display_data",
          "data": {
            "image/png": "[encoded data removed]",
            "text/plain": [
              "<Figure size 432x288 with 1 Axes>"
            ]
          },
          "metadata": {
            "tags": []
          }
        }
      ]
    },
    {
      "cell_type": "markdown",
      "metadata": {
        "id": "w-PUcCK19WFu",
        "colab_type": "text"
      },
      "source": [
        "**Figure 5**:"
      ]
    },
    {
      "cell_type": "code",
      "metadata": {
        "id": "BH6pHcIo9Ziq",
        "colab_type": "code",
        "colab": {
          "base_uri": "https://localhost:8080/",
          "height": 312
        },
        "outputId": "df2659ee-196a-4c47-dc59-8333b8d562c8"
      },
      "source": [
        "ls3 = LombScargle(timeSeries3['time'], 1000*timeSeries3['mmag'])\n",
        "N3 = len(timeSeries3['time'])\n",
        "frequency3, power3 = ls3.autopower(normalization = 'psd', nyquist_factor = 0.2)\n",
        "amp3 = 2*(power3/N3)**0.5\n",
        "pl.plot(frequency3, amp3)\n",
        "pl.title('Periodogram of 277023834')\n",
        "pl.xlabel('frequecy')\n",
        "pl.ylabel('amplitude')"
      ],
      "execution_count": 20,
      "outputs": [
        {
          "output_type": "execute_result",
          "data": {
            "text/plain": [
              "Text(0, 0.5, 'amplitude')"
            ]
          },
          "metadata": {
            "tags": []
          },
          "execution_count": 20
        },
        {
          "output_type": "display_data",
          "data": {
            "image/png": "[encoded data removed]",
            "text/plain": [
              "<Figure size 432x288 with 1 Axes>"
            ]
          },
          "metadata": {
            "tags": []
          }
        }
      ]
    },
    {
      "cell_type": "markdown",
      "metadata": {
        "id": "24hCXzpt9umw",
        "colab_type": "text"
      },
      "source": [
        "**Figure 6**:"
      ]
    },
    {
      "cell_type": "markdown",
      "metadata": {
        "id": "r-DL0PfvFrZC",
        "colab_type": "text"
      },
      "source": [
        "Based on the periodograms you have plotted, add a text box below and indicate what type of variability is exhibited by each of the stars. If one of the stars exhibits *periodic* variations, please also indicate the value of that period."
      ]
    },
    {
      "cell_type": "markdown",
      "metadata": {
        "id": "z0fZtSO_906x",
        "colab_type": "text"
      },
      "source": [
        "**Comment**:"
      ]
    },
    {
      "cell_type": "markdown",
      "metadata": {
        "id": "BYeEpKtVHmMl",
        "colab_type": "text"
      },
      "source": [
        "# **Phase folding**\n",
        "\n",
        "For any star above exhibiting periodic variations, you will phase-fold their time series. This is accomplished by rescaling the exogenous variable, dividing it by the period (keep in mind that period = 1/frequency, and that if you have multiple periods, or harmonics, you should divide by the fundamental period). However, only the fractional part (e.g. np.modf(x)[0]) of the period must be considered (which means that the axis containing the exogenous variable will no longer be monotonically increasing; therefore, make sure to reorder the dataset appropriately).\n",
        "\n",
        "Then, plot the phase-folded light curve(s) and identify them accordingly."
      ]
    },
    {
      "cell_type": "code",
      "metadata": {
        "id": "cqC1e8JIIp_E",
        "colab_type": "code",
        "colab": {}
      },
      "source": [
        "..."
      ],
      "execution_count": 0,
      "outputs": []
    },
    {
      "cell_type": "markdown",
      "metadata": {
        "id": "-GxNivHsI2uK",
        "colab_type": "text"
      },
      "source": [
        "# **Binning**\n",
        "\n",
        "Finally, you will bin the data so that the phased light curve(s) contains 20 bins (from 0 to 1). To do so, you can use the df.resample() method (or any other method you wish), averaging all the points within each bin. Overplot the binned light curve(s) over the original data using a larger symbol size (and perhaps a different color), and connect the binned points with a line. Are 20 bins appropriate? If not, add more bins and explain why."
      ]
    },
    {
      "cell_type": "code",
      "metadata": {
        "id": "Kto8VoZaJSN6",
        "colab_type": "code",
        "colab": {}
      },
      "source": [
        "..."
      ],
      "execution_count": 0,
      "outputs": []
    },
    {
      "cell_type": "markdown",
      "metadata": {
        "id": "ggEuStXqJS2y",
        "colab_type": "text"
      },
      "source": [
        "This concludes the homework assignment!"
      ]
    },
    {
      "cell_type": "markdown",
      "metadata": {
        "id": "1xdy0cQCKFTt",
        "colab_type": "text"
      },
      "source": [
        "**Bonus question**: The resulting phase-folded light curve(s) might not be perfectly overlapping, with certain artefacts. Adding a text cell below, comment on what method could help address that issue, and summarily describe how you would go about applying it."
      ]
    }
  ]
}